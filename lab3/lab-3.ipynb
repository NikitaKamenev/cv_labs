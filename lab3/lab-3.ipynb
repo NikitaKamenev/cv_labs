{
 "cells": [
  {
   "cell_type": "code",
   "execution_count": 1,
   "metadata": {
    "_cell_guid": "b1076dfc-b9ad-4769-8c92-a6c4dae69d19",
    "_uuid": "8f2839f25d086af736a60e9eeb907d3b93b6e0e5",
    "execution": {
     "iopub.execute_input": "2024-12-13T18:22:19.849052Z",
     "iopub.status.busy": "2024-12-13T18:22:19.848357Z",
     "iopub.status.idle": "2024-12-13T18:22:25.754951Z",
     "shell.execute_reply": "2024-12-13T18:22:25.753940Z",
     "shell.execute_reply.started": "2024-12-13T18:22:19.849000Z"
    },
    "trusted": true
   },
   "outputs": [],
   "source": [
    "import torch\n",
    "import torch.nn as nn\n",
    "import torch.optim as optim\n",
    "from torchvision import datasets, models, transforms\n",
    "from torch.utils.data import DataLoader\n",
    "\n",
    "import os\n",
    "import time\n",
    "import shutil\n",
    "from sklearn.model_selection import train_test_split\n",
    "from sklearn.metrics import f1_score, confusion_matrix\n",
    "\n",
    "\n",
    "import matplotlib.pyplot as plt\n",
    "import seaborn as sns"
   ]
  },
  {
   "cell_type": "code",
   "execution_count": 2,
   "metadata": {
    "execution": {
     "iopub.execute_input": "2024-12-13T18:22:25.756708Z",
     "iopub.status.busy": "2024-12-13T18:22:25.756331Z",
     "iopub.status.idle": "2024-12-13T18:22:25.761558Z",
     "shell.execute_reply": "2024-12-13T18:22:25.760672Z",
     "shell.execute_reply.started": "2024-12-13T18:22:25.756680Z"
    },
    "trusted": true
   },
   "outputs": [],
   "source": [
    "data_dir = \"/kaggle/input/animal-image-classification-dataset/Animals\"\n",
    "output_dir = \"/kaggle/working/\" \n",
    "\n",
    "os.makedirs(f\"{output_dir}/train\", exist_ok=True)\n",
    "os.makedirs(f\"{output_dir}/val\", exist_ok=True)"
   ]
  },
  {
   "cell_type": "code",
   "execution_count": 3,
   "metadata": {
    "execution": {
     "iopub.execute_input": "2024-12-13T18:22:25.763216Z",
     "iopub.status.busy": "2024-12-13T18:22:25.762800Z",
     "iopub.status.idle": "2024-12-13T18:22:53.873449Z",
     "shell.execute_reply": "2024-12-13T18:22:53.872543Z",
     "shell.execute_reply.started": "2024-12-13T18:22:25.763162Z"
    },
    "trusted": true
   },
   "outputs": [
    {
     "name": "stdout",
     "output_type": "stream",
     "text": [
      "Данные успешно разделены!\n"
     ]
    }
   ],
   "source": [
    "for class_name in os.listdir(data_dir):\n",
    "    class_path = os.path.join(data_dir, class_name)\n",
    "    if os.path.isdir(class_path):\n",
    "        file_paths = [os.path.join(class_path, fname) for fname in os.listdir(class_path)]\n",
    "        \n",
    "        train_files, val_files = train_test_split(file_paths, train_size=0.8, random_state=42)\n",
    "        \n",
    "        os.makedirs(f\"{output_dir}/train/{class_name}\", exist_ok=True)\n",
    "        os.makedirs(f\"{output_dir}/val/{class_name}\", exist_ok=True)\n",
    "        \n",
    "        for file in train_files:\n",
    "            shutil.copy(file, f\"{output_dir}/train/{class_name}\")\n",
    "        for file in val_files:\n",
    "            shutil.copy(file, f\"{output_dir}/val/{class_name}\")\n",
    "            \n",
    "print(\"Данные успешно разделены!\")"
   ]
  },
  {
   "cell_type": "code",
   "execution_count": 4,
   "metadata": {
    "execution": {
     "iopub.execute_input": "2024-12-13T18:22:53.875840Z",
     "iopub.status.busy": "2024-12-13T18:22:53.875527Z",
     "iopub.status.idle": "2024-12-13T18:22:53.892588Z",
     "shell.execute_reply": "2024-12-13T18:22:53.891857Z",
     "shell.execute_reply.started": "2024-12-13T18:22:53.875784Z"
    },
    "trusted": true
   },
   "outputs": [],
   "source": [
    "data_transforms = {\n",
    "    'train': transforms.Compose([\n",
    "        transforms.Resize(256),\n",
    "        transforms.CenterCrop(224),\n",
    "        transforms.ToTensor(),\n",
    "        transforms.Normalize(mean=[0.485, 0.456, 0.406], std=[0.229, 0.224, 0.225]),\n",
    "    ]),\n",
    "    'val': transforms.Compose([\n",
    "        transforms.Resize(256),\n",
    "        transforms.CenterCrop(224),\n",
    "        transforms.ToTensor(),\n",
    "        transforms.Normalize(mean=[0.485, 0.456, 0.406], std=[0.229, 0.224, 0.225]),\n",
    "    ]),\n",
    "}\n",
    "\n",
    "image_datasets = {\n",
    "    x: datasets.ImageFolder(root=f\"{output_dir}/{x}\", transform=data_transforms[x])\n",
    "    for x in ['train', 'val']\n",
    "}\n",
    "\n",
    "dataloaders = {\n",
    "    x: DataLoader(image_datasets[x], batch_size=32, shuffle=True, num_workers=4)\n",
    "    for x in ['train', 'val']\n",
    "}\n",
    "\n",
    "dataset_sizes = {x: len(image_datasets[x]) for x in ['train', 'val']}\n",
    "class_names = image_datasets['train'].classes"
   ]
  },
  {
   "cell_type": "code",
   "execution_count": null,
   "metadata": {
    "execution": {
     "iopub.execute_input": "2024-12-13T18:22:53.893983Z",
     "iopub.status.busy": "2024-12-13T18:22:53.893706Z",
     "iopub.status.idle": "2024-12-13T18:22:56.008207Z",
     "shell.execute_reply": "2024-12-13T18:22:56.007162Z",
     "shell.execute_reply.started": "2024-12-13T18:22:53.893957Z"
    },
    "trusted": true
   },
   "outputs": [],
   "source": [
    "model = models.resnet50(pretrained=True)\n",
    "\n",
    "num_classes = len(class_names)\n",
    "model.fc = nn.Linear(model.fc.in_features, num_classes)\n",
    "\n",
    "device = torch.device(\"cuda:0\" if torch.cuda.is_available() else \"cpu\")\n",
    "model = model.to(device)"
   ]
  },
  {
   "cell_type": "code",
   "execution_count": 6,
   "metadata": {
    "execution": {
     "iopub.execute_input": "2024-12-13T18:22:56.009854Z",
     "iopub.status.busy": "2024-12-13T18:22:56.009498Z",
     "iopub.status.idle": "2024-12-13T18:22:56.015494Z",
     "shell.execute_reply": "2024-12-13T18:22:56.014597Z",
     "shell.execute_reply.started": "2024-12-13T18:22:56.009790Z"
    },
    "trusted": true
   },
   "outputs": [],
   "source": [
    "criterion = nn.CrossEntropyLoss()\n",
    "optimizer = optim.Adam(model.parameters(), lr=0.001)\n",
    "scheduler = optim.lr_scheduler.StepLR(optimizer, step_size=7, gamma=0.1)"
   ]
  },
  {
   "cell_type": "code",
   "execution_count": 7,
   "metadata": {
    "execution": {
     "iopub.execute_input": "2024-12-13T18:22:56.016835Z",
     "iopub.status.busy": "2024-12-13T18:22:56.016518Z",
     "iopub.status.idle": "2024-12-13T18:22:56.029625Z",
     "shell.execute_reply": "2024-12-13T18:22:56.028650Z",
     "shell.execute_reply.started": "2024-12-13T18:22:56.016782Z"
    },
    "trusted": true
   },
   "outputs": [],
   "source": [
    "def calculate_f1(dataloader, model):\n",
    "    all_preds = []\n",
    "    all_labels = []\n",
    "\n",
    "    model.eval()\n",
    "    with torch.no_grad():\n",
    "        for inputs, labels in dataloader:\n",
    "            inputs, labels = inputs.to(device), labels.to(device)\n",
    "            outputs = model(inputs)\n",
    "            _, preds = torch.max(outputs, 1)\n",
    "            all_preds.extend(preds.cpu().numpy())\n",
    "            all_labels.extend(labels.cpu().numpy())\n",
    "\n",
    "    return f1_score(all_labels, all_preds, average='weighted')"
   ]
  },
  {
   "cell_type": "code",
   "execution_count": 8,
   "metadata": {
    "execution": {
     "iopub.execute_input": "2024-12-13T18:22:56.031144Z",
     "iopub.status.busy": "2024-12-13T18:22:56.030769Z",
     "iopub.status.idle": "2024-12-13T18:22:56.043089Z",
     "shell.execute_reply": "2024-12-13T18:22:56.042050Z",
     "shell.execute_reply.started": "2024-12-13T18:22:56.031115Z"
    },
    "trusted": true
   },
   "outputs": [],
   "source": [
    "def plot_confusion_matrix(dataloader, model, class_names):\n",
    "    all_preds = []\n",
    "    all_labels = []\n",
    "\n",
    "    model.eval()\n",
    "    with torch.no_grad():\n",
    "        for inputs, labels in dataloader:\n",
    "            inputs, labels = inputs.to(device), labels.to(device)\n",
    "            outputs = model(inputs)\n",
    "            _, preds = torch.max(outputs, 1)\n",
    "            all_preds.extend(preds.cpu().numpy())\n",
    "            all_labels.extend(labels.cpu().numpy())\n",
    "\n",
    "    cm = confusion_matrix(all_labels, all_preds)\n",
    "    plt.figure(figsize=(10, 8))\n",
    "    sns.heatmap(cm, annot=True, fmt='d', xticklabels=class_names, yticklabels=class_names, cmap=\"Blues\")\n",
    "    plt.xlabel('Predicted')\n",
    "    plt.ylabel('Actual')\n",
    "    plt.title('Confusion Matrix')\n",
    "    plt.show()"
   ]
  },
  {
   "cell_type": "code",
   "execution_count": null,
   "metadata": {
    "execution": {
     "iopub.execute_input": "2024-12-13T18:23:13.711791Z",
     "iopub.status.busy": "2024-12-13T18:23:13.711409Z",
     "iopub.status.idle": "2024-12-13T18:23:13.723857Z",
     "shell.execute_reply": "2024-12-13T18:23:13.722752Z",
     "shell.execute_reply.started": "2024-12-13T18:23:13.711761Z"
    },
    "trusted": true
   },
   "outputs": [],
   "source": [
    "def train_model(model, criterion, optimizer, scheduler, num_epochs=25):\n",
    "    since = time.time()\n",
    "\n",
    "    best_model_wts = model.state_dict()\n",
    "    best_f1 = 0.0\n",
    "\n",
    "    train_losses = []\n",
    "    val_losses = []\n",
    "\n",
    "    for epoch in range(num_epochs):\n",
    "        print(f'\\nEpoch {epoch}/{num_epochs - 1}')\n",
    "        print('-' * 10)\n",
    "\n",
    "        for phase in ['train', 'val']:\n",
    "            if phase == 'train':\n",
    "                model.train()\n",
    "            else:\n",
    "                model.eval()\n",
    "\n",
    "            running_loss = 0.0\n",
    "            running_corrects = 0\n",
    "\n",
    "            for inputs, labels in dataloaders[phase]:\n",
    "                inputs, labels = inputs.to(device), labels.to(device)\n",
    "\n",
    "                optimizer.zero_grad()\n",
    "\n",
    "                with torch.set_grad_enabled(phase == 'train'):\n",
    "                    outputs = model(inputs)\n",
    "                    _, preds = torch.max(outputs, 1)\n",
    "                    loss = criterion(outputs, labels)\n",
    "\n",
    "                    if phase == 'train':\n",
    "                        loss.backward()\n",
    "                        optimizer.step()\n",
    "\n",
    "                running_loss += loss.item() * inputs.size(0)\n",
    "                running_corrects += torch.sum(preds == labels.data)\n",
    "\n",
    "            if phase == 'train':\n",
    "                scheduler.step()\n",
    "\n",
    "            epoch_loss = running_loss / dataset_sizes[phase]\n",
    "            epoch_acc = running_corrects.double() / dataset_sizes[phase]\n",
    "\n",
    "            print(f'{phase} Loss: {epoch_loss:.4f} Acc: {epoch_acc:.4f}')\n",
    "\n",
    "            if phase == 'train':\n",
    "                train_losses.append(epoch_loss)\n",
    "            else:\n",
    "                val_losses.append(epoch_loss)\n",
    "\n",
    "            if phase == 'val':\n",
    "                epoch_f1 = calculate_f1(dataloaders[phase], model)\n",
    "                print(f'{phase} F1-Score: {epoch_f1:.4f}')\n",
    "\n",
    "                if epoch_f1 > best_f1:\n",
    "                    best_f1 = epoch_f1\n",
    "                    best_model_wts = model.state_dict()\n",
    "\n",
    "    time_elapsed = time.time() - since\n",
    "    print(f'Training complete in {time_elapsed // 60:.0f}m {time_elapsed % 60:.0f}s')\n",
    "    print(f'Best val F1-Score: {best_f1:.4f}')\n",
    "\n",
    "    model.load_state_dict(best_model_wts)\n",
    "\n",
    "    plt.figure(figsize=(10, 5))\n",
    "    plt.plot(train_losses, label='Train Loss')\n",
    "    plt.plot(val_losses, label='Val Loss')\n",
    "    plt.xlabel('Epoch')\n",
    "    plt.ylabel('Loss')\n",
    "    plt.title('Training and Validation Loss')\n",
    "    plt.legend()\n",
    "    plt.show()\n",
    "\n",
    "    return model"
   ]
  },
  {
   "cell_type": "code",
   "execution_count": 10,
   "metadata": {
    "execution": {
     "iopub.execute_input": "2024-12-13T18:23:17.689906Z",
     "iopub.status.busy": "2024-12-13T18:23:17.689244Z",
     "iopub.status.idle": "2024-12-13T18:27:31.520379Z",
     "shell.execute_reply": "2024-12-13T18:27:31.519322Z",
     "shell.execute_reply.started": "2024-12-13T18:23:17.689870Z"
    },
    "trusted": true
   },
   "outputs": [
    {
     "name": "stdout",
     "output_type": "stream",
     "text": [
      "\n",
      "Epoch 0/14\n",
      "----------\n",
      "train Loss: 0.5980 Acc: 0.7525\n",
      "val Loss: 0.5138 Acc: 0.8233\n",
      "val F1-Score: 0.8263\n",
      "\n",
      "Epoch 1/14\n",
      "----------\n",
      "train Loss: 0.3246 Acc: 0.8842\n",
      "val Loss: 0.3426 Acc: 0.8767\n",
      "val F1-Score: 0.8774\n",
      "\n",
      "Epoch 2/14\n",
      "----------\n",
      "train Loss: 0.2795 Acc: 0.8963\n",
      "val Loss: 0.2921 Acc: 0.8983\n",
      "val F1-Score: 0.8979\n",
      "\n",
      "Epoch 3/14\n",
      "----------\n",
      "train Loss: 0.1942 Acc: 0.9313\n",
      "val Loss: 0.2361 Acc: 0.9150\n",
      "val F1-Score: 0.9153\n",
      "\n",
      "Epoch 4/14\n",
      "----------\n",
      "train Loss: 0.1614 Acc: 0.9425\n",
      "val Loss: 0.3243 Acc: 0.8950\n",
      "val F1-Score: 0.8947\n",
      "\n",
      "Epoch 5/14\n",
      "----------\n",
      "train Loss: 0.1475 Acc: 0.9446\n",
      "val Loss: 0.3110 Acc: 0.8867\n",
      "val F1-Score: 0.8864\n",
      "\n",
      "Epoch 6/14\n",
      "----------\n",
      "train Loss: 0.1265 Acc: 0.9525\n",
      "val Loss: 0.3735 Acc: 0.8667\n",
      "val F1-Score: 0.8671\n",
      "\n",
      "Epoch 7/14\n",
      "----------\n",
      "train Loss: 0.0667 Acc: 0.9788\n",
      "val Loss: 0.2167 Acc: 0.9250\n",
      "val F1-Score: 0.9246\n",
      "\n",
      "Epoch 8/14\n",
      "----------\n",
      "train Loss: 0.0256 Acc: 0.9946\n",
      "val Loss: 0.2141 Acc: 0.9300\n",
      "val F1-Score: 0.9296\n",
      "\n",
      "Epoch 9/14\n",
      "----------\n",
      "train Loss: 0.0187 Acc: 0.9954\n",
      "val Loss: 0.1951 Acc: 0.9350\n",
      "val F1-Score: 0.9348\n",
      "\n",
      "Epoch 10/14\n",
      "----------\n",
      "train Loss: 0.0146 Acc: 0.9975\n",
      "val Loss: 0.1944 Acc: 0.9317\n",
      "val F1-Score: 0.9314\n",
      "\n",
      "Epoch 11/14\n",
      "----------\n",
      "train Loss: 0.0085 Acc: 0.9979\n",
      "val Loss: 0.2042 Acc: 0.9350\n",
      "val F1-Score: 0.9348\n",
      "\n",
      "Epoch 12/14\n",
      "----------\n",
      "train Loss: 0.0060 Acc: 0.9992\n",
      "val Loss: 0.2325 Acc: 0.9317\n",
      "val F1-Score: 0.9315\n",
      "\n",
      "Epoch 13/14\n",
      "----------\n",
      "train Loss: 0.0055 Acc: 0.9992\n",
      "val Loss: 0.2280 Acc: 0.9333\n",
      "val F1-Score: 0.9331\n",
      "\n",
      "Epoch 14/14\n",
      "----------\n",
      "train Loss: 0.0076 Acc: 0.9983\n",
      "val Loss: 0.2226 Acc: 0.9350\n",
      "val F1-Score: 0.9348\n",
      "Training complete in 4m 13s\n",
      "Best val F1-Score: 0.9348\n"
     ]
    },
    {
     "data": {
      "image/png": "[encoded data removed]",
      "text/plain": [
       "<Figure size 1000x500 with 1 Axes>"
      ]
     },
     "metadata": {},
     "output_type": "display_data"
    }
   ],
   "source": [
    "model = train_model(model, criterion, optimizer, scheduler, num_epochs=15)"
   ]
  },
  {
   "cell_type": "code",
   "execution_count": 11,
   "metadata": {
    "execution": {
     "iopub.execute_input": "2024-12-13T18:28:06.106037Z",
     "iopub.status.busy": "2024-12-13T18:28:06.105276Z",
     "iopub.status.idle": "2024-12-13T18:28:07.941040Z",
     "shell.execute_reply": "2024-12-13T18:28:07.940047Z",
     "shell.execute_reply.started": "2024-12-13T18:28:06.106003Z"
    },
    "trusted": true
   },
   "outputs": [
    {
     "data": {
      "image/png": "[encoded data removed]",
      "text/plain": [
       "<Figure size 1000x800 with 2 Axes>"
      ]
     },
     "metadata": {},
     "output_type": "display_data"
    }
   ],
   "source": [
    "plot_confusion_matrix(dataloaders['val'], model, class_names)"
   ]
  }
 ],
 "metadata": {
  "kaggle": {
   "accelerator": "gpu",
   "dataSources": [
    {
     "datasetId": 5353029,
     "sourceId": 8903857,
     "sourceType": "datasetVersion"
    }
   ],
   "dockerImageVersionId": 30805,
   "isGpuEnabled": true,
   "isInternetEnabled": true,
   "language": "python",
   "sourceType": "notebook"
  },
  "kernelspec": {
   "display_name": "Python 3",
   "language": "python",
   "name": "python3"
  },
  "language_info": {
   "codemirror_mode": {
    "name": "ipython",
    "version": 3
   },
   "file_extension": ".py",
   "mimetype": "text/x-python",
   "name": "python",
   "nbconvert_exporter": "python",
   "pygments_lexer": "ipython3",
   "version": "3.10.14"
  }
 },
 "nbformat": 4,
 "nbformat_minor": 4
}
