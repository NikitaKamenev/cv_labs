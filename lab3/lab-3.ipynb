{
 "cells": [
  {
   "cell_type": "code",
   "execution_count": null,
   "metadata": {
    "_cell_guid": "b1076dfc-b9ad-4769-8c92-a6c4dae69d19",
    "_uuid": "8f2839f25d086af736a60e9eeb907d3b93b6e0e5",
    "execution": {
     "iopub.execute_input": "2024-12-04T22:19:30.893267Z",
     "iopub.status.busy": "2024-12-04T22:19:30.892937Z",
     "iopub.status.idle": "2024-12-04T22:19:35.836084Z",
     "shell.execute_reply": "2024-12-04T22:19:35.835333Z",
     "shell.execute_reply.started": "2024-12-04T22:19:30.893238Z"
    },
    "trusted": true
   },
   "outputs": [],
   "source": [
    "import os\n",
    "import shutil\n",
    "import time\n",
    "\n",
    "import matplotlib.pyplot as plt\n",
    "import seaborn as sns\n",
    "import torch\n",
    "import torch.nn as nn\n",
    "import torch.optim as optim\n",
    "from sklearn.metrics import confusion_matrix, f1_score\n",
    "from sklearn.model_selection import train_test_split\n",
    "from torch.utils.data import DataLoader\n",
    "from torchvision import datasets, models, transforms"
   ]
  },
  {
   "cell_type": "code",
   "execution_count": null,
   "metadata": {
    "execution": {
     "iopub.execute_input": "2024-12-04T22:19:35.837703Z",
     "iopub.status.busy": "2024-12-04T22:19:35.837339Z",
     "iopub.status.idle": "2024-12-04T22:19:35.842028Z",
     "shell.execute_reply": "2024-12-04T22:19:35.841086Z",
     "shell.execute_reply.started": "2024-12-04T22:19:35.837674Z"
    },
    "trusted": true
   },
   "outputs": [],
   "source": [
    "# https://www.kaggle.com/datasets/borhanitrash/animal-image-classification-dataset\n",
    "data_dir = \"/kaggle/input/animal-image-classification-dataset/Animals\"\n",
    "output_dir = \"/kaggle/working/\" \n",
    "\n",
    "os.makedirs(f\"{output_dir}/train\", exist_ok=True)\n",
    "os.makedirs(f\"{output_dir}/val\", exist_ok=True)"
   ]
  },
  {
   "cell_type": "code",
   "execution_count": 3,
   "metadata": {
    "execution": {
     "iopub.execute_input": "2024-12-04T22:19:35.843445Z",
     "iopub.status.busy": "2024-12-04T22:19:35.843070Z",
     "iopub.status.idle": "2024-12-04T22:20:03.225557Z",
     "shell.execute_reply": "2024-12-04T22:20:03.224702Z",
     "shell.execute_reply.started": "2024-12-04T22:19:35.843345Z"
    },
    "trusted": true
   },
   "outputs": [
    {
     "name": "stdout",
     "output_type": "stream",
     "text": [
      "Данные успешно разделены!\n"
     ]
    }
   ],
   "source": [
    "for class_name in os.listdir(data_dir):\n",
    "    class_path = os.path.join(data_dir, class_name)\n",
    "    if os.path.isdir(class_path):\n",
    "        file_paths = [os.path.join(class_path, fname) for fname in os.listdir(class_path)]\n",
    "        \n",
    "        train_files, val_files = train_test_split(file_paths, train_size=0.8, random_state=42)\n",
    "        \n",
    "        os.makedirs(f\"{output_dir}/train/{class_name}\", exist_ok=True)\n",
    "        os.makedirs(f\"{output_dir}/val/{class_name}\", exist_ok=True)\n",
    "        \n",
    "        for file in train_files:\n",
    "            shutil.copy(file, f\"{output_dir}/train/{class_name}\")\n",
    "        for file in val_files:\n",
    "            shutil.copy(file, f\"{output_dir}/val/{class_name}\")\n",
    "            \n",
    "print(\"Данные успешно разделены!\")"
   ]
  },
  {
   "cell_type": "code",
   "execution_count": 4,
   "metadata": {
    "execution": {
     "iopub.execute_input": "2024-12-04T22:20:03.227453Z",
     "iopub.status.busy": "2024-12-04T22:20:03.227185Z",
     "iopub.status.idle": "2024-12-04T22:20:03.243137Z",
     "shell.execute_reply": "2024-12-04T22:20:03.242428Z",
     "shell.execute_reply.started": "2024-12-04T22:20:03.227425Z"
    },
    "trusted": true
   },
   "outputs": [],
   "source": [
    "data_transforms = {\n",
    "    'train': transforms.Compose([\n",
    "        transforms.Resize(256),\n",
    "        transforms.CenterCrop(224),\n",
    "        transforms.ToTensor(),\n",
    "        transforms.Normalize(mean=[0.485, 0.456, 0.406], std=[0.229, 0.224, 0.225]),\n",
    "    ]),\n",
    "    'val': transforms.Compose([\n",
    "        transforms.Resize(256),\n",
    "        transforms.CenterCrop(224),\n",
    "        transforms.ToTensor(),\n",
    "        transforms.Normalize(mean=[0.485, 0.456, 0.406], std=[0.229, 0.224, 0.225]),\n",
    "    ]),\n",
    "}\n",
    "\n",
    "image_datasets = {\n",
    "    x: datasets.ImageFolder(root=f\"{output_dir}/{x}\", transform=data_transforms[x])\n",
    "    for x in ['train', 'val']\n",
    "}\n",
    "\n",
    "dataloaders = {\n",
    "    x: DataLoader(image_datasets[x], batch_size=32, shuffle=True, num_workers=4)\n",
    "    for x in ['train', 'val']\n",
    "}\n",
    "\n",
    "dataset_sizes = {x: len(image_datasets[x]) for x in ['train', 'val']}\n",
    "class_names = image_datasets['train'].classes"
   ]
  },
  {
   "cell_type": "code",
   "execution_count": null,
   "metadata": {
    "execution": {
     "iopub.execute_input": "2024-12-04T22:29:59.591943Z",
     "iopub.status.busy": "2024-12-04T22:29:59.591182Z",
     "iopub.status.idle": "2024-12-04T22:30:00.096852Z",
     "shell.execute_reply": "2024-12-04T22:30:00.096032Z",
     "shell.execute_reply.started": "2024-12-04T22:29:59.591908Z"
    },
    "trusted": true
   },
   "outputs": [],
   "source": [
    "model = models.resnet50(pretrained=True)\n",
    "\n",
    "num_classes = len(class_names)\n",
    "model.fc = nn.Linear(model.fc.in_features, num_classes)\n",
    "\n",
    "device = torch.device(\"cuda:0\" if torch.cuda.is_available() else \"cpu\")\n",
    "model = model.to(device)"
   ]
  },
  {
   "cell_type": "code",
   "execution_count": 36,
   "metadata": {
    "execution": {
     "iopub.execute_input": "2024-12-04T22:30:05.690139Z",
     "iopub.status.busy": "2024-12-04T22:30:05.689791Z",
     "iopub.status.idle": "2024-12-04T22:30:05.697871Z",
     "shell.execute_reply": "2024-12-04T22:30:05.697004Z",
     "shell.execute_reply.started": "2024-12-04T22:30:05.690109Z"
    },
    "trusted": true
   },
   "outputs": [],
   "source": [
    "criterion = nn.CrossEntropyLoss()\n",
    "optimizer = optim.Adam(model.parameters(), lr=0.001)\n",
    "scheduler = optim.lr_scheduler.StepLR(optimizer, step_size=7, gamma=0.1)"
   ]
  },
  {
   "cell_type": "code",
   "execution_count": 30,
   "metadata": {
    "execution": {
     "iopub.execute_input": "2024-12-04T22:24:42.474981Z",
     "iopub.status.busy": "2024-12-04T22:24:42.474609Z",
     "iopub.status.idle": "2024-12-04T22:24:42.480545Z",
     "shell.execute_reply": "2024-12-04T22:24:42.479620Z",
     "shell.execute_reply.started": "2024-12-04T22:24:42.474949Z"
    },
    "trusted": true
   },
   "outputs": [],
   "source": [
    "def calculate_f1(dataloader, model):\n",
    "    all_preds = []\n",
    "    all_labels = []\n",
    "\n",
    "    model.eval()\n",
    "    with torch.no_grad():\n",
    "        for inputs, labels in dataloader:\n",
    "            inputs, labels = inputs.to(device), labels.to(device)\n",
    "            outputs = model(inputs)\n",
    "            _, preds = torch.max(outputs, 1)\n",
    "            all_preds.extend(preds.cpu().numpy())\n",
    "            all_labels.extend(labels.cpu().numpy())\n",
    "\n",
    "    return f1_score(all_labels, all_preds, average='weighted')"
   ]
  },
  {
   "cell_type": "code",
   "execution_count": 31,
   "metadata": {
    "execution": {
     "iopub.execute_input": "2024-12-04T22:24:43.242285Z",
     "iopub.status.busy": "2024-12-04T22:24:43.241954Z",
     "iopub.status.idle": "2024-12-04T22:24:43.248348Z",
     "shell.execute_reply": "2024-12-04T22:24:43.247471Z",
     "shell.execute_reply.started": "2024-12-04T22:24:43.242255Z"
    },
    "trusted": true
   },
   "outputs": [],
   "source": [
    "def plot_confusion_matrix(dataloader, model, class_names):\n",
    "    all_preds = []\n",
    "    all_labels = []\n",
    "\n",
    "    model.eval()\n",
    "    with torch.no_grad():\n",
    "        for inputs, labels in dataloader:\n",
    "            inputs, labels = inputs.to(device), labels.to(device)\n",
    "            outputs = model(inputs)\n",
    "            _, preds = torch.max(outputs, 1)\n",
    "            all_preds.extend(preds.cpu().numpy())\n",
    "            all_labels.extend(labels.cpu().numpy())\n",
    "\n",
    "    cm = confusion_matrix(all_labels, all_preds)\n",
    "    plt.figure(figsize=(10, 8))\n",
    "    sns.heatmap(cm, annot=True, fmt='d', xticklabels=class_names, yticklabels=class_names, cmap=\"Blues\")\n",
    "    plt.xlabel('Predicted')\n",
    "    plt.ylabel('Actual')\n",
    "    plt.title('Confusion Matrix')\n",
    "    plt.show()"
   ]
  },
  {
   "cell_type": "code",
   "execution_count": 32,
   "metadata": {
    "execution": {
     "iopub.execute_input": "2024-12-04T22:24:44.732044Z",
     "iopub.status.busy": "2024-12-04T22:24:44.731213Z",
     "iopub.status.idle": "2024-12-04T22:24:44.741050Z",
     "shell.execute_reply": "2024-12-04T22:24:44.740059Z",
     "shell.execute_reply.started": "2024-12-04T22:24:44.732007Z"
    },
    "trusted": true
   },
   "outputs": [],
   "source": [
    "def train_model(model, criterion, optimizer, scheduler, num_epochs=25):\n",
    "    since = time.time()\n",
    "\n",
    "    best_model_wts = model.state_dict()\n",
    "    best_f1 = 0.0\n",
    "\n",
    "    for epoch in range(num_epochs):\n",
    "        print(f'\\nEpoch {epoch}/{num_epochs - 1}')\n",
    "        print('-' * 10)\n",
    "\n",
    "        for phase in ['train', 'val']:\n",
    "            if phase == 'train':\n",
    "                model.train()\n",
    "            else:\n",
    "                model.eval()\n",
    "\n",
    "            running_loss = 0.0\n",
    "            running_corrects = 0\n",
    "\n",
    "            for inputs, labels in dataloaders[phase]:\n",
    "                inputs, labels = inputs.to(device), labels.to(device)\n",
    "\n",
    "                optimizer.zero_grad()\n",
    "\n",
    "                with torch.set_grad_enabled(phase == 'train'):\n",
    "                    outputs = model(inputs)\n",
    "                    _, preds = torch.max(outputs, 1)\n",
    "                    loss = criterion(outputs, labels)\n",
    "\n",
    "                    if phase == 'train':\n",
    "                        loss.backward()\n",
    "                        optimizer.step()\n",
    "\n",
    "                running_loss += loss.item() * inputs.size(0)\n",
    "                running_corrects += torch.sum(preds == labels.data)\n",
    "\n",
    "            if phase == 'train':\n",
    "                scheduler.step()\n",
    "\n",
    "            epoch_loss = running_loss / dataset_sizes[phase]\n",
    "            epoch_acc = running_corrects.double() / dataset_sizes[phase]\n",
    "\n",
    "            print(f'{phase} Loss: {epoch_loss:.4f} Acc: {epoch_acc:.4f}')\n",
    "\n",
    "            if phase == 'val':\n",
    "                epoch_f1 = calculate_f1(dataloaders[phase], model)\n",
    "                print(f'{phase} F1-Score: {epoch_f1:.4f}')\n",
    "\n",
    "                if epoch_f1 > best_f1:\n",
    "                    best_f1 = epoch_f1\n",
    "                    best_model_wts = model.state_dict()\n",
    "\n",
    "    time_elapsed = time.time() - since\n",
    "    print(f'Training complete in {time_elapsed // 60:.0f}m {time_elapsed % 60:.0f}s')\n",
    "    print(f'Best val F1-Score: {best_f1:.4f}')\n",
    "\n",
    "    model.load_state_dict(best_model_wts)\n",
    "    return model"
   ]
  },
  {
   "cell_type": "code",
   "execution_count": 37,
   "metadata": {
    "execution": {
     "iopub.execute_input": "2024-12-04T22:30:12.112444Z",
     "iopub.status.busy": "2024-12-04T22:30:12.112106Z",
     "iopub.status.idle": "2024-12-04T22:34:19.654637Z",
     "shell.execute_reply": "2024-12-04T22:34:19.653574Z",
     "shell.execute_reply.started": "2024-12-04T22:30:12.112413Z"
    },
    "trusted": true
   },
   "outputs": [
    {
     "name": "stdout",
     "output_type": "stream",
     "text": [
      "\n",
      "Epoch 0/14\n",
      "----------\n",
      "train Loss: 0.5328 Acc: 0.8013\n",
      "val Loss: 0.6191 Acc: 0.7633\n",
      "val F1-Score: 0.7459\n",
      "\n",
      "Epoch 1/14\n",
      "----------\n",
      "train Loss: 0.3215 Acc: 0.8679\n",
      "val Loss: 0.3906 Acc: 0.8500\n",
      "val F1-Score: 0.8512\n",
      "\n",
      "Epoch 2/14\n",
      "----------\n",
      "train Loss: 0.2242 Acc: 0.9167\n",
      "val Loss: 0.6058 Acc: 0.7917\n",
      "val F1-Score: 0.7877\n",
      "\n",
      "Epoch 3/14\n",
      "----------\n",
      "train Loss: 0.2538 Acc: 0.9117\n",
      "val Loss: 0.3539 Acc: 0.8833\n",
      "val F1-Score: 0.8825\n",
      "\n",
      "Epoch 4/14\n",
      "----------\n",
      "train Loss: 0.1571 Acc: 0.9421\n",
      "val Loss: 0.3316 Acc: 0.8750\n",
      "val F1-Score: 0.8757\n",
      "\n",
      "Epoch 5/14\n",
      "----------\n",
      "train Loss: 0.1685 Acc: 0.9400\n",
      "val Loss: 0.4060 Acc: 0.8517\n",
      "val F1-Score: 0.8476\n",
      "\n",
      "Epoch 6/14\n",
      "----------\n",
      "train Loss: 0.1339 Acc: 0.9517\n",
      "val Loss: 0.3076 Acc: 0.9067\n",
      "val F1-Score: 0.9060\n",
      "\n",
      "Epoch 7/14\n",
      "----------\n",
      "train Loss: 0.0636 Acc: 0.9796\n",
      "val Loss: 0.1266 Acc: 0.9567\n",
      "val F1-Score: 0.9565\n",
      "\n",
      "Epoch 8/14\n",
      "----------\n",
      "train Loss: 0.0342 Acc: 0.9896\n",
      "val Loss: 0.1335 Acc: 0.9483\n",
      "val F1-Score: 0.9481\n",
      "\n",
      "Epoch 9/14\n",
      "----------\n",
      "train Loss: 0.0192 Acc: 0.9971\n",
      "val Loss: 0.1260 Acc: 0.9467\n",
      "val F1-Score: 0.9463\n",
      "\n",
      "Epoch 10/14\n",
      "----------\n",
      "train Loss: 0.0193 Acc: 0.9942\n",
      "val Loss: 0.1168 Acc: 0.9583\n",
      "val F1-Score: 0.9582\n",
      "\n",
      "Epoch 11/14\n",
      "----------\n",
      "train Loss: 0.0142 Acc: 0.9971\n",
      "val Loss: 0.1456 Acc: 0.9633\n",
      "val F1-Score: 0.9632\n",
      "\n",
      "Epoch 12/14\n",
      "----------\n",
      "train Loss: 0.0186 Acc: 0.9958\n",
      "val Loss: 0.1307 Acc: 0.9550\n",
      "val F1-Score: 0.9548\n",
      "\n",
      "Epoch 13/14\n",
      "----------\n",
      "train Loss: 0.0070 Acc: 0.9992\n",
      "val Loss: 0.1318 Acc: 0.9600\n",
      "val F1-Score: 0.9599\n",
      "\n",
      "Epoch 14/14\n",
      "----------\n",
      "train Loss: 0.0062 Acc: 0.9988\n",
      "val Loss: 0.1354 Acc: 0.9600\n",
      "val F1-Score: 0.9599\n",
      "Training complete in 4m 8s\n",
      "Best val F1-Score: 0.9632\n"
     ]
    }
   ],
   "source": [
    "model = train_model(model, criterion, optimizer, scheduler, num_epochs=15)"
   ]
  },
  {
   "cell_type": "code",
   "execution_count": 38,
   "metadata": {
    "execution": {
     "iopub.execute_input": "2024-12-04T22:42:51.641773Z",
     "iopub.status.busy": "2024-12-04T22:42:51.641363Z",
     "iopub.status.idle": "2024-12-04T22:42:53.369228Z",
     "shell.execute_reply": "2024-12-04T22:42:53.368260Z",
     "shell.execute_reply.started": "2024-12-04T22:42:51.641738Z"
    },
    "trusted": true
   },
   "outputs": [
    {
     "data": {
      "image/png": "[encoded data removed]",
      "text/plain": [
       "<Figure size 1000x800 with 2 Axes>"
      ]
     },
     "metadata": {},
     "output_type": "display_data"
    }
   ],
   "source": [
    "plot_confusion_matrix(dataloaders['val'], model, class_names)"
   ]
  }
 ],
 "metadata": {
  "kaggle": {
   "accelerator": "gpu",
   "dataSources": [
    {
     "datasetId": 5353029,
     "sourceId": 8903857,
     "sourceType": "datasetVersion"
    }
   ],
   "dockerImageVersionId": 30805,
   "isGpuEnabled": true,
   "isInternetEnabled": true,
   "language": "python",
   "sourceType": "notebook"
  },
  "kernelspec": {
   "display_name": "Python 3",
   "language": "python",
   "name": "python3"
  },
  "language_info": {
   "codemirror_mode": {
    "name": "ipython",
    "version": 3
   },
   "file_extension": ".py",
   "mimetype": "text/x-python",
   "name": "python",
   "nbconvert_exporter": "python",
   "pygments_lexer": "ipython3",
   "version": "3.10.14"
  }
 },
 "nbformat": 4,
 "nbformat_minor": 4
}
